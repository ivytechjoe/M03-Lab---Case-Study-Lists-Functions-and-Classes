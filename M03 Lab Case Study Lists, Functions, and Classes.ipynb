{
 "cells": [
  {
   "cell_type": "code",
   "execution_count": 4,
   "id": "55a9dc97",
   "metadata": {},
   "outputs": [
    {
     "name": "stdout",
     "output_type": "stream",
     "text": [
      "Enter the type of vehicle: truck\n",
      "Enter the year: 1991\n",
      "Enter the make: ford\n",
      "Enter the model: f-150\n",
      "Enter the amount of doors: 2\n",
      "Enter which type of roof. Sun/Solid: solid\n",
      "Vehicle Type: truck\n",
      "Year: 1991\n",
      "Make: ford\n",
      "Model: f-150\n",
      "Number of doors: 2\n",
      "Type of Roof: solid\n"
     ]
    }
   ],
   "source": [
    "\n",
    "class Vehicle:\n",
    "    def __init__(self, vehicle_type):\n",
    "        self.vehicle_type = vehicle_type\n",
    "        \n",
    "class Automobile(Vehicle):\n",
    "    def __init__(self, vehicle_type, year, make, model, doors, roof):\n",
    "        super().__init__(vehicle_type)\n",
    "        self.year = year\n",
    "        self.make = make\n",
    "        self.model = model\n",
    "        self.doors = doors\n",
    "        self.roof = roof\n",
    "        \n",
    "def user_input():\n",
    "    \n",
    "    vehicle_type = input(\"Enter the type of vehicle: \")\n",
    "    year = int(input(\"Enter the year: \"))\n",
    "    make = input(\"Enter the make: \")\n",
    "    model = input(\"Enter the model: \")\n",
    "    doors = input(\"Enter the amount of doors: \")\n",
    "    roof = input(\"Enter which type of roof. Sun/Solid: \")\n",
    "    \n",
    "    return vehicle_type, year, make, model, doors, roof\n",
    "\n",
    "def print_info(vehicle):\n",
    "    \n",
    "    print(\"Vehicle Type:\", vehicle.vehicle_type)\n",
    "    print(\"Year:\", vehicle.year)\n",
    "    print(\"Make:\", vehicle.make)\n",
    "    print(\"Model:\", vehicle.model)\n",
    "    print(\"Number of doors:\", vehicle.doors)\n",
    "    print(\"Type of Roof:\", vehicle.roof)\n",
    "    \n",
    "if __name__ == \"__main__\":\n",
    "    vehicle_type, year, make, model, doors, roof = user_input()\n",
    "    \n",
    "    automobile = Automobile(vehicle_type, year, make, model, doors, roof)\n",
    "    \n",
    "    print_info(automobile)"
   ]
  }
 ],
 "metadata": {
  "kernelspec": {
   "display_name": "Python 3 (ipykernel)",
   "language": "python",
   "name": "python3"
  },
  "language_info": {
   "codemirror_mode": {
    "name": "ipython",
    "version": 3
   },
   "file_extension": ".py",
   "mimetype": "text/x-python",
   "name": "python",
   "nbconvert_exporter": "python",
   "pygments_lexer": "ipython3",
   "version": "3.11.5"
  }
 },
 "nbformat": 4,
 "nbformat_minor": 5
}
